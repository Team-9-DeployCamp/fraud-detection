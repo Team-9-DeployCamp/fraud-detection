{
 "cells": [
  {
   "cell_type": "markdown",
   "id": "eab036e4",
   "metadata": {},
   "source": [
    "# Import Libraries"
   ]
  },
  {
   "cell_type": "code",
   "execution_count": 37,
   "id": "4f7f9701",
   "metadata": {},
   "outputs": [],
   "source": [
    "import pandas as pd\n",
    "import src.util as utils\n",
    "from sklearn.model_selection import train_test_split"
   ]
  },
  {
   "cell_type": "markdown",
   "id": "6e4cc530",
   "metadata": {},
   "source": [
    "# Load Config File"
   ]
  },
  {
   "cell_type": "code",
   "execution_count": 38,
   "id": "d394d883",
   "metadata": {},
   "outputs": [],
   "source": [
    "config = utils.load_config()"
   ]
  },
  {
   "cell_type": "code",
   "execution_count": 39,
   "id": "950b4034",
   "metadata": {},
   "outputs": [
    {
     "data": {
      "text/html": [
       "<div>\n",
       "<style scoped>\n",
       "    .dataframe tbody tr th:only-of-type {\n",
       "        vertical-align: middle;\n",
       "    }\n",
       "\n",
       "    .dataframe tbody tr th {\n",
       "        vertical-align: top;\n",
       "    }\n",
       "\n",
       "    .dataframe thead th {\n",
       "        text-align: right;\n",
       "    }\n",
       "</style>\n",
       "<table border=\"1\" class=\"dataframe\">\n",
       "  <thead>\n",
       "    <tr style=\"text-align: right;\">\n",
       "      <th></th>\n",
       "      <th>transaction_id</th>\n",
       "      <th>amount</th>\n",
       "      <th>merchant_type</th>\n",
       "      <th>device_type</th>\n",
       "      <th>label</th>\n",
       "    </tr>\n",
       "  </thead>\n",
       "  <tbody>\n",
       "    <tr>\n",
       "      <th>0</th>\n",
       "      <td>1</td>\n",
       "      <td>46.93</td>\n",
       "      <td>travel</td>\n",
       "      <td>tablet</td>\n",
       "      <td>0</td>\n",
       "    </tr>\n",
       "    <tr>\n",
       "      <th>1</th>\n",
       "      <td>2</td>\n",
       "      <td>301.01</td>\n",
       "      <td>groceries</td>\n",
       "      <td>desktop</td>\n",
       "      <td>0</td>\n",
       "    </tr>\n",
       "    <tr>\n",
       "      <th>2</th>\n",
       "      <td>3</td>\n",
       "      <td>131.67</td>\n",
       "      <td>others</td>\n",
       "      <td>tablet</td>\n",
       "      <td>0</td>\n",
       "    </tr>\n",
       "    <tr>\n",
       "      <th>3</th>\n",
       "      <td>4</td>\n",
       "      <td>91.29</td>\n",
       "      <td>electronics</td>\n",
       "      <td>desktop</td>\n",
       "      <td>0</td>\n",
       "    </tr>\n",
       "    <tr>\n",
       "      <th>4</th>\n",
       "      <td>5</td>\n",
       "      <td>16.96</td>\n",
       "      <td>others</td>\n",
       "      <td>mobile</td>\n",
       "      <td>0</td>\n",
       "    </tr>\n",
       "  </tbody>\n",
       "</table>\n",
       "</div>"
      ],
      "text/plain": [
       "   transaction_id  amount merchant_type device_type  label\n",
       "0               1   46.93        travel      tablet      0\n",
       "1               2  301.01     groceries     desktop      0\n",
       "2               3  131.67        others      tablet      0\n",
       "3               4   91.29   electronics     desktop      0\n",
       "4               5   16.96        others      mobile      0"
      ]
     },
     "execution_count": 39,
     "metadata": {},
     "output_type": "execute_result"
    }
   ],
   "source": [
    "dataset = pd.read_csv(config['data_path'])\n",
    "dataset.head()"
   ]
  },
  {
   "cell_type": "markdown",
   "id": "29f9bc7a",
   "metadata": {},
   "source": [
    "# Data Validation"
   ]
  },
  {
   "cell_type": "code",
   "execution_count": 4,
   "id": "e27aa1c9",
   "metadata": {},
   "outputs": [
    {
     "name": "stdout",
     "output_type": "stream",
     "text": [
      "<class 'pandas.core.frame.DataFrame'>\n",
      "RangeIndex: 1000 entries, 0 to 999\n",
      "Data columns (total 5 columns):\n",
      " #   Column          Non-Null Count  Dtype  \n",
      "---  ------          --------------  -----  \n",
      " 0   transaction_id  1000 non-null   int64  \n",
      " 1   amount          1000 non-null   float64\n",
      " 2   merchant_type   1000 non-null   object \n",
      " 3   device_type     1000 non-null   object \n",
      " 4   label           1000 non-null   int64  \n",
      "dtypes: float64(1), int64(2), object(2)\n",
      "memory usage: 39.2+ KB\n"
     ]
    }
   ],
   "source": [
    "dataset.info()"
   ]
  },
  {
   "cell_type": "code",
   "execution_count": 5,
   "id": "4bfde51b",
   "metadata": {},
   "outputs": [
    {
     "data": {
      "text/plain": [
       "transaction_id    0\n",
       "amount            0\n",
       "merchant_type     0\n",
       "device_type       0\n",
       "label             0\n",
       "dtype: int64"
      ]
     },
     "execution_count": 5,
     "metadata": {},
     "output_type": "execute_result"
    }
   ],
   "source": [
    "# check missing value\n",
    "dataset.isnull().sum()"
   ]
  },
  {
   "cell_type": "code",
   "execution_count": 6,
   "id": "6e5c0785",
   "metadata": {},
   "outputs": [
    {
     "data": {
      "text/html": [
       "<div>\n",
       "<style scoped>\n",
       "    .dataframe tbody tr th:only-of-type {\n",
       "        vertical-align: middle;\n",
       "    }\n",
       "\n",
       "    .dataframe tbody tr th {\n",
       "        vertical-align: top;\n",
       "    }\n",
       "\n",
       "    .dataframe thead th {\n",
       "        text-align: right;\n",
       "    }\n",
       "</style>\n",
       "<table border=\"1\" class=\"dataframe\">\n",
       "  <thead>\n",
       "    <tr style=\"text-align: right;\">\n",
       "      <th></th>\n",
       "      <th>count</th>\n",
       "      <th>mean</th>\n",
       "      <th>std</th>\n",
       "      <th>min</th>\n",
       "      <th>25%</th>\n",
       "      <th>50%</th>\n",
       "      <th>75%</th>\n",
       "      <th>max</th>\n",
       "    </tr>\n",
       "  </thead>\n",
       "  <tbody>\n",
       "    <tr>\n",
       "      <th>transaction_id</th>\n",
       "      <td>1000.0</td>\n",
       "      <td>500.50000</td>\n",
       "      <td>288.819436</td>\n",
       "      <td>1.00</td>\n",
       "      <td>250.750</td>\n",
       "      <td>500.50</td>\n",
       "      <td>750.250</td>\n",
       "      <td>1000.00</td>\n",
       "    </tr>\n",
       "    <tr>\n",
       "      <th>amount</th>\n",
       "      <td>1000.0</td>\n",
       "      <td>97.25056</td>\n",
       "      <td>97.250965</td>\n",
       "      <td>0.46</td>\n",
       "      <td>26.915</td>\n",
       "      <td>68.68</td>\n",
       "      <td>136.385</td>\n",
       "      <td>817.24</td>\n",
       "    </tr>\n",
       "    <tr>\n",
       "      <th>label</th>\n",
       "      <td>1000.0</td>\n",
       "      <td>0.05000</td>\n",
       "      <td>0.218054</td>\n",
       "      <td>0.00</td>\n",
       "      <td>0.000</td>\n",
       "      <td>0.00</td>\n",
       "      <td>0.000</td>\n",
       "      <td>1.00</td>\n",
       "    </tr>\n",
       "  </tbody>\n",
       "</table>\n",
       "</div>"
      ],
      "text/plain": [
       "                 count       mean         std   min      25%     50%      75%  \\\n",
       "transaction_id  1000.0  500.50000  288.819436  1.00  250.750  500.50  750.250   \n",
       "amount          1000.0   97.25056   97.250965  0.46   26.915   68.68  136.385   \n",
       "label           1000.0    0.05000    0.218054  0.00    0.000    0.00    0.000   \n",
       "\n",
       "                    max  \n",
       "transaction_id  1000.00  \n",
       "amount           817.24  \n",
       "label              1.00  "
      ]
     },
     "execution_count": 6,
     "metadata": {},
     "output_type": "execute_result"
    }
   ],
   "source": [
    "# check statistic descriptive\n",
    "dataset.describe().T"
   ]
  },
  {
   "cell_type": "code",
   "execution_count": 7,
   "id": "35012d7d",
   "metadata": {},
   "outputs": [
    {
     "data": {
      "text/html": [
       "<div>\n",
       "<style scoped>\n",
       "    .dataframe tbody tr th:only-of-type {\n",
       "        vertical-align: middle;\n",
       "    }\n",
       "\n",
       "    .dataframe tbody tr th {\n",
       "        vertical-align: top;\n",
       "    }\n",
       "\n",
       "    .dataframe thead th {\n",
       "        text-align: right;\n",
       "    }\n",
       "</style>\n",
       "<table border=\"1\" class=\"dataframe\">\n",
       "  <thead>\n",
       "    <tr style=\"text-align: right;\">\n",
       "      <th></th>\n",
       "      <th>count</th>\n",
       "      <th>unique</th>\n",
       "      <th>top</th>\n",
       "      <th>freq</th>\n",
       "    </tr>\n",
       "  </thead>\n",
       "  <tbody>\n",
       "    <tr>\n",
       "      <th>merchant_type</th>\n",
       "      <td>1000</td>\n",
       "      <td>5</td>\n",
       "      <td>others</td>\n",
       "      <td>214</td>\n",
       "    </tr>\n",
       "    <tr>\n",
       "      <th>device_type</th>\n",
       "      <td>1000</td>\n",
       "      <td>3</td>\n",
       "      <td>mobile</td>\n",
       "      <td>346</td>\n",
       "    </tr>\n",
       "  </tbody>\n",
       "</table>\n",
       "</div>"
      ],
      "text/plain": [
       "              count unique     top freq\n",
       "merchant_type  1000      5  others  214\n",
       "device_type    1000      3  mobile  346"
      ]
     },
     "execution_count": 7,
     "metadata": {},
     "output_type": "execute_result"
    }
   ],
   "source": [
    "# check statistic descriptive\n",
    "dataset.describe(include='object').T"
   ]
  },
  {
   "cell_type": "code",
   "execution_count": 8,
   "id": "1021fe31",
   "metadata": {},
   "outputs": [
    {
     "name": "stdout",
     "output_type": "stream",
     "text": [
      "<class 'pandas.core.frame.DataFrame'>\n",
      "RangeIndex: 1000 entries, 0 to 999\n",
      "Data columns (total 4 columns):\n",
      " #   Column         Non-Null Count  Dtype  \n",
      "---  ------         --------------  -----  \n",
      " 0   amount         1000 non-null   float64\n",
      " 1   merchant_type  1000 non-null   object \n",
      " 2   device_type    1000 non-null   object \n",
      " 3   label          1000 non-null   int64  \n",
      "dtypes: float64(1), int64(1), object(2)\n",
      "memory usage: 31.4+ KB\n"
     ]
    }
   ],
   "source": [
    "# drop transaction_id\n",
    "dataset = dataset.drop(columns=['transaction_id'], axis=1)\n",
    "dataset.info()\n"
   ]
  },
  {
   "cell_type": "markdown",
   "id": "3993d05c",
   "metadata": {},
   "source": [
    "# Data Defense"
   ]
  },
  {
   "cell_type": "code",
   "execution_count": null,
   "id": "5a3f4b12",
   "metadata": {},
   "outputs": [
    {
     "data": {
      "text/plain": [
       "{'amount'}"
      ]
     },
     "execution_count": 16,
     "metadata": {},
     "output_type": "execute_result"
    }
   ],
   "source": [
    "# set(dataset.select_dtypes('float').columns.to_list())"
   ]
  },
  {
   "cell_type": "code",
   "execution_count": null,
   "id": "a59848bd",
   "metadata": {},
   "outputs": [
    {
     "data": {
      "text/plain": [
       "{'amount'}"
      ]
     },
     "execution_count": 17,
     "metadata": {},
     "output_type": "execute_result"
    }
   ],
   "source": [
    "# set(config['float_columns'])"
   ]
  },
  {
   "cell_type": "code",
   "execution_count": 27,
   "id": "7d95bdac",
   "metadata": {},
   "outputs": [],
   "source": [
    "def check_data(input_data, config):\n",
    "    # count input data\n",
    "    len_input_data = len(input_data)\n",
    "\n",
    "    # check data types\n",
    "    assert set(input_data.select_dtypes('float').columns.to_list()) == set(config['float_columns']), 'an error occurs in float columns'\n",
    "    assert set(input_data.select_dtypes('int').columns.to_list()) == set(config['int_columns']), 'an error occurs in int columns'\n",
    "    assert set(input_data.select_dtypes('object').columns.to_list()) == set(config['categorical_columns']), 'an error occurs in categorical columns'\n",
    "\n",
    "    # Check range of data in float_columns\n",
    "    for col in config['float_columns']:\n",
    "        range_key = f\"range_{col}\"       \n",
    "        if range_key in config:\n",
    "            min_val, max_val = config[range_key]\n",
    "\n",
    "            # Count values outside the defined range\n",
    "            # 'between' returns True for values within the range, so we negate (~) and sum to get out-of-range count\n",
    "            out_of_range_count = (len_input_data - input_data[col].between(min_val, max_val).sum())\n",
    "\n",
    "            assert out_of_range_count == 0, \\\n",
    "                f\"Error in {col} range. {out_of_range_count} values are outside the defined range [{min_val}, {max_val}].\"\n",
    "\n",
    "    # Check range of data in int_columns\n",
    "    for col in config['int_columns']:\n",
    "        range_key = f\"range_{col}\"       \n",
    "        if range_key in config:\n",
    "            min_val, max_val = config[range_key]\n",
    "\n",
    "            # Count values outside the defined range\n",
    "            # 'between' returns True for values within the range, so we negate (~) and sum to get out-of-range count\n",
    "            out_of_range_count = (len_input_data - input_data[col].between(min_val, max_val).sum())\n",
    "\n",
    "            assert out_of_range_count == 0, \\\n",
    "                f\"Error in {col} range. {out_of_range_count} values are outside the defined range [{min_val}, {max_val}].\""
   ]
  },
  {
   "cell_type": "code",
   "execution_count": 28,
   "id": "5759100f",
   "metadata": {},
   "outputs": [],
   "source": [
    "# call the function\n",
    "check_data(dataset, config)"
   ]
  },
  {
   "cell_type": "markdown",
   "id": "8046ac5a",
   "metadata": {},
   "source": [
    "# Data Splitting"
   ]
  },
  {
   "cell_type": "code",
   "execution_count": 29,
   "id": "2d0b4edb",
   "metadata": {},
   "outputs": [
    {
     "data": {
      "text/plain": [
       "'label'"
      ]
     },
     "execution_count": 29,
     "metadata": {},
     "output_type": "execute_result"
    }
   ],
   "source": [
    "config['label']"
   ]
  },
  {
   "cell_type": "code",
   "execution_count": 30,
   "id": "39934cb0",
   "metadata": {},
   "outputs": [],
   "source": [
    "feature_columns = config['float_columns'] + config['categorical_columns']\n",
    "\n",
    "X = dataset[feature_columns].copy()\n",
    "\n",
    "y = dataset[config['label']].copy()"
   ]
  },
  {
   "cell_type": "code",
   "execution_count": 31,
   "id": "2578f424",
   "metadata": {},
   "outputs": [
    {
     "data": {
      "text/html": [
       "<div>\n",
       "<style scoped>\n",
       "    .dataframe tbody tr th:only-of-type {\n",
       "        vertical-align: middle;\n",
       "    }\n",
       "\n",
       "    .dataframe tbody tr th {\n",
       "        vertical-align: top;\n",
       "    }\n",
       "\n",
       "    .dataframe thead th {\n",
       "        text-align: right;\n",
       "    }\n",
       "</style>\n",
       "<table border=\"1\" class=\"dataframe\">\n",
       "  <thead>\n",
       "    <tr style=\"text-align: right;\">\n",
       "      <th></th>\n",
       "      <th>amount</th>\n",
       "      <th>merchant_type</th>\n",
       "      <th>device_type</th>\n",
       "    </tr>\n",
       "  </thead>\n",
       "  <tbody>\n",
       "    <tr>\n",
       "      <th>0</th>\n",
       "      <td>46.93</td>\n",
       "      <td>travel</td>\n",
       "      <td>tablet</td>\n",
       "    </tr>\n",
       "    <tr>\n",
       "      <th>1</th>\n",
       "      <td>301.01</td>\n",
       "      <td>groceries</td>\n",
       "      <td>desktop</td>\n",
       "    </tr>\n",
       "    <tr>\n",
       "      <th>2</th>\n",
       "      <td>131.67</td>\n",
       "      <td>others</td>\n",
       "      <td>tablet</td>\n",
       "    </tr>\n",
       "    <tr>\n",
       "      <th>3</th>\n",
       "      <td>91.29</td>\n",
       "      <td>electronics</td>\n",
       "      <td>desktop</td>\n",
       "    </tr>\n",
       "    <tr>\n",
       "      <th>4</th>\n",
       "      <td>16.96</td>\n",
       "      <td>others</td>\n",
       "      <td>mobile</td>\n",
       "    </tr>\n",
       "  </tbody>\n",
       "</table>\n",
       "</div>"
      ],
      "text/plain": [
       "   amount merchant_type device_type\n",
       "0   46.93        travel      tablet\n",
       "1  301.01     groceries     desktop\n",
       "2  131.67        others      tablet\n",
       "3   91.29   electronics     desktop\n",
       "4   16.96        others      mobile"
      ]
     },
     "execution_count": 31,
     "metadata": {},
     "output_type": "execute_result"
    }
   ],
   "source": [
    "X.head()"
   ]
  },
  {
   "cell_type": "code",
   "execution_count": 32,
   "id": "0a162849",
   "metadata": {},
   "outputs": [
    {
     "data": {
      "text/plain": [
       "0    0\n",
       "1    0\n",
       "2    0\n",
       "3    0\n",
       "4    0\n",
       "Name: label, dtype: int64"
      ]
     },
     "execution_count": 32,
     "metadata": {},
     "output_type": "execute_result"
    }
   ],
   "source": [
    "y.head()"
   ]
  },
  {
   "cell_type": "code",
   "execution_count": 33,
   "id": "a25b0008",
   "metadata": {},
   "outputs": [
    {
     "name": "stdout",
     "output_type": "stream",
     "text": [
      "<class 'pandas.core.frame.DataFrame'>\n",
      "RangeIndex: 1000 entries, 0 to 999\n",
      "Data columns (total 3 columns):\n",
      " #   Column         Non-Null Count  Dtype  \n",
      "---  ------         --------------  -----  \n",
      " 0   amount         1000 non-null   float64\n",
      " 1   merchant_type  1000 non-null   object \n",
      " 2   device_type    1000 non-null   object \n",
      "dtypes: float64(1), object(2)\n",
      "memory usage: 23.6+ KB\n"
     ]
    }
   ],
   "source": [
    "X.info()"
   ]
  },
  {
   "cell_type": "code",
   "execution_count": 34,
   "id": "a65d9694",
   "metadata": {},
   "outputs": [
    {
     "name": "stdout",
     "output_type": "stream",
     "text": [
      "<class 'pandas.core.series.Series'>\n",
      "RangeIndex: 1000 entries, 0 to 999\n",
      "Series name: label\n",
      "Non-Null Count  Dtype\n",
      "--------------  -----\n",
      "1000 non-null   int64\n",
      "dtypes: int64(1)\n",
      "memory usage: 7.9 KB\n"
     ]
    }
   ],
   "source": [
    "y.info()"
   ]
  },
  {
   "cell_type": "code",
   "execution_count": 35,
   "id": "9e31135a",
   "metadata": {},
   "outputs": [],
   "source": [
    "# split data train and test\n",
    "X_train, X_pretest, y_train, y_pretest = train_test_split(X,\n",
    "                                                    y,\n",
    "                                                    test_size = 0.3,\n",
    "                                                    random_state = 42,\n",
    "                                                    stratify = y)\n",
    "\n",
    "# split data test into set validation = valid\n",
    "X_valid, X_test, y_valid, y_test = train_test_split(X_pretest,\n",
    "                                                    y_pretest,\n",
    "                                                    test_size = 0.5,\n",
    "                                                    random_state = 42,\n",
    "                                                    stratify = y_pretest)"
   ]
  },
  {
   "cell_type": "code",
   "execution_count": 36,
   "id": "cc3ccfc9",
   "metadata": {},
   "outputs": [
    {
     "name": "stdout",
     "output_type": "stream",
     "text": [
      "The splitting is correct\n"
     ]
    }
   ],
   "source": [
    "if X_train.shape[0] + X_valid.shape[0] + X_test.shape[0] == len(dataset):\n",
    "    print(\"The splitting is correct\")\n",
    "else:\n",
    "    print(\"There is something wrong in splitting\")"
   ]
  },
  {
   "cell_type": "markdown",
   "id": "0f11fef2",
   "metadata": {},
   "source": [
    "# Dump dataset with pickle"
   ]
  },
  {
   "cell_type": "code",
   "execution_count": 40,
   "id": "a3781e0c",
   "metadata": {},
   "outputs": [],
   "source": [
    "utils.pickle_dump(dataset, config[\"dataset_fraud_detection_cleaned_path\"])\n",
    "\n",
    "utils.pickle_dump(X_train, config[\"train_set_path\"][0])\n",
    "utils.pickle_dump(y_train, config[\"train_set_path\"][1])\n",
    "\n",
    "utils.pickle_dump(X_valid, config[\"valid_set_path\"][0])\n",
    "utils.pickle_dump(y_valid, config[\"valid_set_path\"][1])\n",
    "\n",
    "utils.pickle_dump(X_test, config[\"test_set_path\"][0])\n",
    "utils.pickle_dump(y_test, config[\"test_set_path\"][1])"
   ]
  }
 ],
 "metadata": {
  "kernelspec": {
   "display_name": "fraud_venv",
   "language": "python",
   "name": "python3"
  },
  "language_info": {
   "codemirror_mode": {
    "name": "ipython",
    "version": 3
   },
   "file_extension": ".py",
   "mimetype": "text/x-python",
   "name": "python",
   "nbconvert_exporter": "python",
   "pygments_lexer": "ipython3",
   "version": "3.10.5"
  }
 },
 "nbformat": 4,
 "nbformat_minor": 5
}
