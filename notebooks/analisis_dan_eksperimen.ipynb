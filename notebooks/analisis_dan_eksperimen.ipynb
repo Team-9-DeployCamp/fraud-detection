{
 "cells": [
  {
   "cell_type": "code",
   "execution_count": 10,
   "id": "72abf91a",
   "metadata": {},
   "outputs": [],
   "source": [
    "import numpy as np\n",
    "import pandas as pd\n",
    "import seaborn as sns\n",
    "import matplotlib.pyplot as plt\n",
    "import scipy.stats as stats\n",
    "import math\n",
    "from sklearn.metrics import classification_report\n",
    "\n",
    "pd.set_option(\"display.max_columns\", None)\n",
    "pd.set_option(\"display.max_rows\", None)"
   ]
  },
  {
   "cell_type": "code",
   "execution_count": 11,
   "id": "42c61ddb",
   "metadata": {},
   "outputs": [
    {
     "name": "stdout",
     "output_type": "stream",
     "text": [
      "Original directory: C:\\Users\\Utandra\\Documents\\DeployCamp_Team9\\fraud_detection\n",
      "Changed to: C:\\Users\\Utandra\\Documents\\DeployCamp_Team9\n",
      "Successfully imported src.util!\n"
     ]
    }
   ],
   "source": [
    "import os\n",
    "import sys\n",
    "\n",
    "# Simpan current directory\n",
    "notebook_dir = os.getcwd()\n",
    "print(f\"Original directory: {notebook_dir}\")\n",
    "\n",
    "# Pindah ke parent directory (fraud_detection)\n",
    "parent_dir = os.path.dirname(notebook_dir)\n",
    "os.chdir(parent_dir)\n",
    "print(f\"Changed to: {os.getcwd()}\")\n",
    "\n",
    "# Tambahkan ke sys.path\n",
    "sys.path.append(parent_dir)\n",
    "\n",
    "# Sekarang import akan bekerja\n",
    "import src.util as utils\n",
    "print(\"Successfully imported src.util!\")\n",
    "\n",
    "# Jika perlu, bisa kembali ke notebook directory\n",
    "# os.chdir(notebook_dir)"
   ]
  },
  {
   "cell_type": "code",
   "execution_count": 3,
   "id": "70497129-2b1e-4ab9-843b-f3bcaf6f658d",
   "metadata": {},
   "outputs": [],
   "source": [
    "config = utils.load_config()"
   ]
  },
  {
   "cell_type": "code",
   "execution_count": 4,
   "id": "1ff99012-b31b-43de-ba79-5031918db379",
   "metadata": {},
   "outputs": [
    {
     "data": {
      "text/html": [
       "<div>\n",
       "<style scoped>\n",
       "    .dataframe tbody tr th:only-of-type {\n",
       "        vertical-align: middle;\n",
       "    }\n",
       "\n",
       "    .dataframe tbody tr th {\n",
       "        vertical-align: top;\n",
       "    }\n",
       "\n",
       "    .dataframe thead th {\n",
       "        text-align: right;\n",
       "    }\n",
       "</style>\n",
       "<table border=\"1\" class=\"dataframe\">\n",
       "  <thead>\n",
       "    <tr style=\"text-align: right;\">\n",
       "      <th></th>\n",
       "      <th>transaction_id</th>\n",
       "      <th>amount</th>\n",
       "      <th>merchant_type</th>\n",
       "      <th>device_type</th>\n",
       "      <th>label</th>\n",
       "    </tr>\n",
       "  </thead>\n",
       "  <tbody>\n",
       "    <tr>\n",
       "      <th>0</th>\n",
       "      <td>1</td>\n",
       "      <td>46.93</td>\n",
       "      <td>travel</td>\n",
       "      <td>tablet</td>\n",
       "      <td>0</td>\n",
       "    </tr>\n",
       "    <tr>\n",
       "      <th>1</th>\n",
       "      <td>2</td>\n",
       "      <td>301.01</td>\n",
       "      <td>groceries</td>\n",
       "      <td>desktop</td>\n",
       "      <td>0</td>\n",
       "    </tr>\n",
       "    <tr>\n",
       "      <th>2</th>\n",
       "      <td>3</td>\n",
       "      <td>131.67</td>\n",
       "      <td>others</td>\n",
       "      <td>tablet</td>\n",
       "      <td>0</td>\n",
       "    </tr>\n",
       "    <tr>\n",
       "      <th>3</th>\n",
       "      <td>4</td>\n",
       "      <td>91.29</td>\n",
       "      <td>electronics</td>\n",
       "      <td>desktop</td>\n",
       "      <td>0</td>\n",
       "    </tr>\n",
       "    <tr>\n",
       "      <th>4</th>\n",
       "      <td>5</td>\n",
       "      <td>16.96</td>\n",
       "      <td>others</td>\n",
       "      <td>mobile</td>\n",
       "      <td>0</td>\n",
       "    </tr>\n",
       "  </tbody>\n",
       "</table>\n",
       "</div>"
      ],
      "text/plain": [
       "   transaction_id  amount merchant_type device_type  label\n",
       "0               1   46.93        travel      tablet      0\n",
       "1               2  301.01     groceries     desktop      0\n",
       "2               3  131.67        others      tablet      0\n",
       "3               4   91.29   electronics     desktop      0\n",
       "4               5   16.96        others      mobile      0"
      ]
     },
     "execution_count": 4,
     "metadata": {},
     "output_type": "execute_result"
    }
   ],
   "source": [
    "dataset = pd.read_csv(config['data_path'])\n",
    "dataset.head()"
   ]
  },
  {
   "cell_type": "code",
   "execution_count": 5,
   "id": "93683420-1a1a-4de3-a387-3ebe4e706f6e",
   "metadata": {},
   "outputs": [],
   "source": [
    "dataset = dataset.drop(['transaction_id'], axis=1)"
   ]
  },
  {
   "cell_type": "code",
   "execution_count": 6,
   "id": "39af0825-fb23-4a45-bd37-46d36876a34b",
   "metadata": {},
   "outputs": [],
   "source": [
    "dataset = pd.get_dummies(dataset)"
   ]
  },
  {
   "cell_type": "code",
   "execution_count": 7,
   "id": "ae352331-ba73-44cd-9aff-edcc57fe5b3f",
   "metadata": {},
   "outputs": [
    {
     "data": {
      "text/html": [
       "<div>\n",
       "<style scoped>\n",
       "    .dataframe tbody tr th:only-of-type {\n",
       "        vertical-align: middle;\n",
       "    }\n",
       "\n",
       "    .dataframe tbody tr th {\n",
       "        vertical-align: top;\n",
       "    }\n",
       "\n",
       "    .dataframe thead th {\n",
       "        text-align: right;\n",
       "    }\n",
       "</style>\n",
       "<table border=\"1\" class=\"dataframe\">\n",
       "  <thead>\n",
       "    <tr style=\"text-align: right;\">\n",
       "      <th></th>\n",
       "      <th>amount</th>\n",
       "      <th>label</th>\n",
       "      <th>merchant_type_clothing</th>\n",
       "      <th>merchant_type_electronics</th>\n",
       "      <th>merchant_type_groceries</th>\n",
       "      <th>merchant_type_others</th>\n",
       "      <th>merchant_type_travel</th>\n",
       "      <th>device_type_desktop</th>\n",
       "      <th>device_type_mobile</th>\n",
       "      <th>device_type_tablet</th>\n",
       "    </tr>\n",
       "  </thead>\n",
       "  <tbody>\n",
       "    <tr>\n",
       "      <th>0</th>\n",
       "      <td>46.93</td>\n",
       "      <td>0</td>\n",
       "      <td>False</td>\n",
       "      <td>False</td>\n",
       "      <td>False</td>\n",
       "      <td>False</td>\n",
       "      <td>True</td>\n",
       "      <td>False</td>\n",
       "      <td>False</td>\n",
       "      <td>True</td>\n",
       "    </tr>\n",
       "    <tr>\n",
       "      <th>1</th>\n",
       "      <td>301.01</td>\n",
       "      <td>0</td>\n",
       "      <td>False</td>\n",
       "      <td>False</td>\n",
       "      <td>True</td>\n",
       "      <td>False</td>\n",
       "      <td>False</td>\n",
       "      <td>True</td>\n",
       "      <td>False</td>\n",
       "      <td>False</td>\n",
       "    </tr>\n",
       "    <tr>\n",
       "      <th>2</th>\n",
       "      <td>131.67</td>\n",
       "      <td>0</td>\n",
       "      <td>False</td>\n",
       "      <td>False</td>\n",
       "      <td>False</td>\n",
       "      <td>True</td>\n",
       "      <td>False</td>\n",
       "      <td>False</td>\n",
       "      <td>False</td>\n",
       "      <td>True</td>\n",
       "    </tr>\n",
       "    <tr>\n",
       "      <th>3</th>\n",
       "      <td>91.29</td>\n",
       "      <td>0</td>\n",
       "      <td>False</td>\n",
       "      <td>True</td>\n",
       "      <td>False</td>\n",
       "      <td>False</td>\n",
       "      <td>False</td>\n",
       "      <td>True</td>\n",
       "      <td>False</td>\n",
       "      <td>False</td>\n",
       "    </tr>\n",
       "    <tr>\n",
       "      <th>4</th>\n",
       "      <td>16.96</td>\n",
       "      <td>0</td>\n",
       "      <td>False</td>\n",
       "      <td>False</td>\n",
       "      <td>False</td>\n",
       "      <td>True</td>\n",
       "      <td>False</td>\n",
       "      <td>False</td>\n",
       "      <td>True</td>\n",
       "      <td>False</td>\n",
       "    </tr>\n",
       "  </tbody>\n",
       "</table>\n",
       "</div>"
      ],
      "text/plain": [
       "   amount  label  merchant_type_clothing  merchant_type_electronics  \\\n",
       "0   46.93      0                   False                      False   \n",
       "1  301.01      0                   False                      False   \n",
       "2  131.67      0                   False                      False   \n",
       "3   91.29      0                   False                       True   \n",
       "4   16.96      0                   False                      False   \n",
       "\n",
       "   merchant_type_groceries  merchant_type_others  merchant_type_travel  \\\n",
       "0                    False                 False                  True   \n",
       "1                     True                 False                 False   \n",
       "2                    False                  True                 False   \n",
       "3                    False                 False                 False   \n",
       "4                    False                  True                 False   \n",
       "\n",
       "   device_type_desktop  device_type_mobile  device_type_tablet  \n",
       "0                False               False                True  \n",
       "1                 True               False               False  \n",
       "2                False               False                True  \n",
       "3                 True               False               False  \n",
       "4                False                True               False  "
      ]
     },
     "execution_count": 7,
     "metadata": {},
     "output_type": "execute_result"
    }
   ],
   "source": [
    "dataset.head()"
   ]
  },
  {
   "cell_type": "code",
   "execution_count": 8,
   "id": "d1723c42-a55e-4dfb-8091-5504c2f19794",
   "metadata": {},
   "outputs": [],
   "source": [
    "from sklearn.model_selection import train_test_split\n",
    "\n",
    "X_train, X_test, y_train, y_test = train_test_split(dataset.drop(['label'], axis=1), dataset['label'], test_size=0.2, stratify=dataset['label'], random_state=42)"
   ]
  },
  {
   "cell_type": "code",
   "execution_count": 25,
   "id": "9988fcac-6294-461c-8605-d974c6a818a2",
   "metadata": {},
   "outputs": [
    {
     "name": "stdout",
     "output_type": "stream",
     "text": [
      "Collecting xgboost\n",
      "  Using cached xgboost-3.0.2-py3-none-win_amd64.whl.metadata (2.1 kB)\n",
      "Requirement already satisfied: numpy in c:\\users\\utandra\\documents\\deploycamp_team9\\fraud_detection\\fraud_venv\\lib\\site-packages (from xgboost) (2.2.6)\n",
      "Requirement already satisfied: scipy in c:\\users\\utandra\\documents\\deploycamp_team9\\fraud_detection\\fraud_venv\\lib\\site-packages (from xgboost) (1.15.3)\n",
      "Using cached xgboost-3.0.2-py3-none-win_amd64.whl (150.0 MB)\n",
      "Installing collected packages: xgboost\n",
      "Successfully installed xgboost-3.0.2\n"
     ]
    },
    {
     "name": "stderr",
     "output_type": "stream",
     "text": [
      "\n",
      "[notice] A new release of pip is available: 25.0.1 -> 25.1.1\n",
      "[notice] To update, run: python.exe -m pip install --upgrade pip\n"
     ]
    }
   ],
   "source": [
    "!pip install xgboost"
   ]
  },
  {
   "cell_type": "code",
   "execution_count": 27,
   "id": "f59d1e59-27d7-4018-a2f0-3396147095d8",
   "metadata": {},
   "outputs": [],
   "source": [
    "from xgboost import XGBClassifier"
   ]
  },
  {
   "cell_type": "code",
   "execution_count": 38,
   "id": "6159d954-42e1-4b05-af60-3dea66da5790",
   "metadata": {
    "scrolled": true
   },
   "outputs": [
    {
     "name": "stdout",
     "output_type": "stream",
     "text": [
      "              precision    recall  f1-score   support\n",
      "\n",
      "           0       0.93      0.95      0.94       186\n",
      "           1       0.00      0.00      0.00        14\n",
      "\n",
      "    accuracy                           0.88       200\n",
      "   macro avg       0.46      0.47      0.47       200\n",
      "weighted avg       0.86      0.88      0.87       200\n",
      "\n"
     ]
    }
   ],
   "source": [
    "model_xgb = XGBClassifier(random_state=42, scale_pos_weight=50)\n",
    "model_xgb.fit(X_train, y_train)\n",
    "pred_test = model_xgb.predict(X_test)\n",
    "\n",
    "print(classification_report(pred_test, y_test))"
   ]
  },
  {
   "cell_type": "code",
   "execution_count": 17,
   "id": "71b9fafd-0591-4718-9610-97e6e7e2b87d",
   "metadata": {},
   "outputs": [
    {
     "name": "stdout",
     "output_type": "stream",
     "text": [
      "              precision    recall  f1-score   support\n",
      "\n",
      "           0       0.54      0.95      0.69       108\n",
      "           1       0.50      0.05      0.10        92\n",
      "\n",
      "    accuracy                           0.54       200\n",
      "   macro avg       0.52      0.50      0.39       200\n",
      "weighted avg       0.52      0.54      0.42       200\n",
      "\n"
     ]
    }
   ],
   "source": [
    "from sklearn.linear_model import LogisticRegression\n",
    "\n",
    "model_lr = LogisticRegression(class_weight='balanced')\n",
    "model_lr.fit(X_train, y_train)\n",
    "pred_test = model_lr.predict(X_test)\n",
    "print(classification_report(pred_test, y_test))"
   ]
  },
  {
   "cell_type": "code",
   "execution_count": 18,
   "id": "d67a8104-eda4-47e5-8575-5287d81e4c25",
   "metadata": {},
   "outputs": [
    {
     "name": "stdout",
     "output_type": "stream",
     "text": [
      "              precision    recall  f1-score   support\n",
      "\n",
      "           0       0.95      0.95      0.95       190\n",
      "           1       0.10      0.10      0.10        10\n",
      "\n",
      "    accuracy                           0.91       200\n",
      "   macro avg       0.53      0.53      0.53       200\n",
      "weighted avg       0.91      0.91      0.91       200\n",
      "\n"
     ]
    }
   ],
   "source": [
    "from sklearn.tree import DecisionTreeClassifier\n",
    "\n",
    "model_dt = DecisionTreeClassifier(random_state=42, class_weight='balanced')\n",
    "model_dt.fit(X_train, y_train)\n",
    "pred_test = model_dt.predict(X_test)\n",
    "print(classification_report(pred_test, y_test))"
   ]
  }
 ],
 "metadata": {
  "kernelspec": {
   "display_name": "Python 3",
   "language": "python",
   "name": "python3"
  },
  "language_info": {
   "codemirror_mode": {
    "name": "ipython",
    "version": 3
   },
   "file_extension": ".py",
   "mimetype": "text/x-python",
   "name": "python",
   "nbconvert_exporter": "python",
   "pygments_lexer": "ipython3",
   "version": "3.11.4"
  }
 },
 "nbformat": 4,
 "nbformat_minor": 5
}
