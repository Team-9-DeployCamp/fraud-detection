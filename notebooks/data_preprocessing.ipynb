{
 "cells": [
  {
   "cell_type": "markdown",
   "id": "77d4d4d1",
   "metadata": {},
   "source": [
    "# Import Libraries"
   ]
  },
  {
   "cell_type": "code",
   "execution_count": 28,
   "id": "146b966c",
   "metadata": {},
   "outputs": [],
   "source": [
    "import pandas as pd\n",
    "import numpy as np\n",
    "import src.util as utils\n",
    "from sklearn import preprocessing\n",
    "from imblearn.over_sampling import SMOTE "
   ]
  },
  {
   "cell_type": "markdown",
   "id": "bdbab659",
   "metadata": {},
   "source": [
    "# Load Config"
   ]
  },
  {
   "cell_type": "code",
   "execution_count": 29,
   "id": "aec40624",
   "metadata": {},
   "outputs": [],
   "source": [
    "config = utils.load_config()"
   ]
  },
  {
   "cell_type": "markdown",
   "id": "edd0c0f0",
   "metadata": {},
   "source": [
    "# Load Dataset"
   ]
  },
  {
   "cell_type": "code",
   "execution_count": 30,
   "id": "3f4b662c",
   "metadata": {},
   "outputs": [],
   "source": [
    "def load_dataset(config_data: dict):\n",
    "    # load set of train\n",
    "    X_train = utils.pickle_load(config_data['train_set_path'][0])\n",
    "    y_train = utils.pickle_load(config_data['train_set_path'][1])\n",
    "    \n",
    "    # Load set of valid\n",
    "    X_valid = utils.pickle_load(config_data['valid_set_path'][0])\n",
    "    y_valid = utils.pickle_load(config_data['valid_set_path'][1])\n",
    "    \n",
    "    # Load set of test\n",
    "    X_test = utils.pickle_load(config_data['test_set_path'][0])\n",
    "    y_test = utils.pickle_load(config_data['test_set_path'][1])\n",
    "    \n",
    "    \n",
    "    return X_train, y_train, X_valid, y_valid, X_test, y_test"
   ]
  },
  {
   "cell_type": "code",
   "execution_count": 31,
   "id": "68b3fb7d",
   "metadata": {},
   "outputs": [],
   "source": [
    "X_train, y_train, X_valid, y_valid, X_test, y_test = load_dataset(config)"
   ]
  },
  {
   "cell_type": "code",
   "execution_count": 32,
   "id": "217c1fea",
   "metadata": {},
   "outputs": [
    {
     "name": "stdout",
     "output_type": "stream",
     "text": [
      "((700, 3), (700,)) \n",
      "\n",
      "((150, 3), (150,)) \n",
      "\n",
      "((150, 3), (150,))\n"
     ]
    }
   ],
   "source": [
    "# check the result\n",
    "print((X_train.shape, y_train.shape), '\\n')\n",
    "print((X_valid.shape, y_valid.shape), '\\n')\n",
    "print((X_test.shape, y_test.shape))"
   ]
  },
  {
   "cell_type": "code",
   "execution_count": 33,
   "id": "cc0ea733",
   "metadata": {},
   "outputs": [
    {
     "name": "stdout",
     "output_type": "stream",
     "text": [
      "<class 'pandas.core.frame.DataFrame'>\n",
      "Index: 700 entries, 308 to 29\n",
      "Data columns (total 3 columns):\n",
      " #   Column         Non-Null Count  Dtype  \n",
      "---  ------         --------------  -----  \n",
      " 0   amount         700 non-null    float64\n",
      " 1   merchant_type  700 non-null    object \n",
      " 2   device_type    700 non-null    object \n",
      "dtypes: float64(1), object(2)\n",
      "memory usage: 21.9+ KB\n"
     ]
    }
   ],
   "source": [
    "# check dtype\n",
    "X_train.info()"
   ]
  },
  {
   "cell_type": "code",
   "execution_count": 34,
   "id": "e88cc71e",
   "metadata": {},
   "outputs": [
    {
     "name": "stdout",
     "output_type": "stream",
     "text": [
      "<class 'pandas.core.series.Series'>\n",
      "Index: 700 entries, 308 to 29\n",
      "Series name: label\n",
      "Non-Null Count  Dtype\n",
      "--------------  -----\n",
      "700 non-null    int64\n",
      "dtypes: int64(1)\n",
      "memory usage: 10.9 KB\n"
     ]
    }
   ],
   "source": [
    "y_train.info()"
   ]
  },
  {
   "cell_type": "markdown",
   "id": "2aa3f4bf",
   "metadata": {},
   "source": [
    "What we got at EDA:\n",
    "1. Categorical features have more than 2 labels (uniqueness), so the treatment for coding applies OHE\n",
    "2. Labels/targets are not balanced. So, we will do experiments with original data and SMOTE data\n",
    "3. The `number` feature has outliers, so we will experiment with the original data and transformed data."
   ]
  },
  {
   "cell_type": "markdown",
   "id": "1baf333b",
   "metadata": {},
   "source": [
    "# Check Missing value and Data Duplicates"
   ]
  },
  {
   "cell_type": "code",
   "execution_count": 35,
   "id": "57101234",
   "metadata": {},
   "outputs": [
    {
     "name": "stdout",
     "output_type": "stream",
     "text": [
      "Check missing in set Train: \n",
      " amount           0\n",
      "merchant_type    0\n",
      "device_type      0\n",
      "label            0\n",
      "dtype: int64\n",
      "\n",
      "Check missing in set Valid: \n",
      " amount           0\n",
      "merchant_type    0\n",
      "device_type      0\n",
      "label            0\n",
      "dtype: int64\n",
      "\n",
      "Check missing in set test: \n",
      " amount           0\n",
      "merchant_type    0\n",
      "device_type      0\n",
      "label            0\n",
      "dtype: int64\n"
     ]
    }
   ],
   "source": [
    "# combining the x and y of each set\n",
    "train_set = pd.concat([X_train, y_train], axis=1)\n",
    "valid_set = pd.concat([X_valid, y_valid], axis=1)\n",
    "test_set = pd.concat([X_test, y_test], axis=1)\n",
    "\n",
    "# print the result of missing value\n",
    "print(f'Check missing in set Train: \\n {train_set.isnull().sum()}\\n')\n",
    "print(f'Check missing in set Valid: \\n {valid_set.isnull().sum()}\\n')\n",
    "print(f'Check missing in set test: \\n {test_set.isnull().sum()}')"
   ]
  },
  {
   "cell_type": "code",
   "execution_count": 36,
   "id": "0be114f4",
   "metadata": {},
   "outputs": [
    {
     "name": "stdout",
     "output_type": "stream",
     "text": [
      "Check missing in set Train: \n",
      " 1.0\n",
      "\n",
      "Check missing in set Valid: \n",
      " 1.0\n",
      "\n",
      "Check missing in set test: \n",
      " 1.0\n"
     ]
    }
   ],
   "source": [
    "# print the result of data duplicates\n",
    "print(f'Check missing in set Train: \\n {len(train_set.drop_duplicates()) / len(train_set)}\\n')\n",
    "print(f'Check missing in set Valid: \\n {len(valid_set.drop_duplicates()) / len(valid_set)}\\n')\n",
    "print(f'Check missing in set test: \\n {len(test_set.drop_duplicates()) / len(test_set)}')"
   ]
  },
  {
   "cell_type": "markdown",
   "id": "c87cd657",
   "metadata": {},
   "source": [
    "If the result is 1, then there is no duplicates"
   ]
  },
  {
   "cell_type": "markdown",
   "id": "54481706",
   "metadata": {},
   "source": [
    "# Categorical Handling"
   ]
  },
  {
   "cell_type": "code",
   "execution_count": 37,
   "id": "0768d1dd",
   "metadata": {},
   "outputs": [],
   "source": [
    "def apply_ohe_preprocessing(X_train_df, X_valid_df, X_test_df, categorical_cols):\n",
    "    \n",
    "    # intialize OHE\n",
    "    ohe_encoder = preprocessing.OneHotEncoder(handle_unknown='ignore', sparse_output=False, drop='first')\n",
    "\n",
    "    # Fit and transform in set train\n",
    "    X_train_encoded_ohe = ohe_encoder.fit_transform(X_train_df[categorical_cols])\n",
    "\n",
    "    X_train_encoded_ohe_df = pd.DataFrame(\n",
    "        X_train_encoded_ohe,\n",
    "        columns=ohe_encoder.get_feature_names_out(categorical_cols),\n",
    "        index=X_train_df.index\n",
    "    )\n",
    "\n",
    "    # drop column non-OHE\n",
    "    X_train_cleaned = X_train_df.drop(columns=categorical_cols).copy()\n",
    "\n",
    "    X_train_cleaned = pd.concat([X_train_cleaned, X_train_encoded_ohe_df], axis=1)\n",
    "\n",
    "    # Encode in set valid (only transform from encode that already fitting in X_train)\n",
    "    X_valid_encoded_ohe = ohe_encoder.transform(X_valid_df[categorical_cols])\n",
    "\n",
    "    X_valid_encoded_ohe_df = pd.DataFrame(\n",
    "        X_valid_encoded_ohe,\n",
    "        columns=ohe_encoder.get_feature_names_out(categorical_cols),\n",
    "        index=X_valid_df.index\n",
    "    )\n",
    "\n",
    "    # drop column non-OHE\n",
    "    X_valid_cleaned = X_valid_df.drop(columns=categorical_cols).copy()\n",
    "\n",
    "    X_valid_cleaned = pd.concat([X_valid_cleaned, X_valid_encoded_ohe_df], axis=1)\n",
    "\n",
    "    # Encode in set valid (only transform from encode that already fitting in X_train)\n",
    "    X_test_encoded_ohe = ohe_encoder.transform(X_test_df[categorical_cols])\n",
    "\n",
    "    X_test_encoded_ohe_df = pd.DataFrame(\n",
    "        X_test_encoded_ohe,\n",
    "        columns=ohe_encoder.get_feature_names_out(categorical_cols),\n",
    "        index=X_test_df.index\n",
    "    )\n",
    "\n",
    "    # drop column non-OHE\n",
    "    X_test_cleaned = X_test_df.drop(columns=categorical_cols).copy()\n",
    "\n",
    "    X_test_cleaned = pd.concat([X_test_cleaned, X_test_encoded_ohe_df], axis=1)\n",
    "\n",
    "    return X_train_cleaned, X_valid_cleaned, X_test_cleaned"
   ]
  },
  {
   "cell_type": "code",
   "execution_count": 38,
   "id": "ee6fb8bf",
   "metadata": {},
   "outputs": [
    {
     "name": "stdout",
     "output_type": "stream",
     "text": [
      "X_train_processed shape: (700, 7)\n",
      "X_valid_processed shape: (150, 7)\n",
      "X_test_processed shape: (150, 7)\n"
     ]
    }
   ],
   "source": [
    "# define col ohe\n",
    "ohe_cols = [\n",
    "    'merchant_type', 'device_type'\n",
    "]\n",
    "\n",
    "X_train_processed, X_valid_processed, X_test_processed = apply_ohe_preprocessing(\n",
    "    X_train, X_valid, X_test, ohe_cols\n",
    ")\n",
    "\n",
    "# checkpoint\n",
    "print(f\"X_train_processed shape: {X_train_processed.shape}\")\n",
    "print(f\"X_valid_processed shape: {X_valid_processed.shape}\")\n",
    "print(f\"X_test_processed shape: {X_test_processed.shape}\")"
   ]
  },
  {
   "cell_type": "code",
   "execution_count": 39,
   "id": "b334d146",
   "metadata": {},
   "outputs": [
    {
     "data": {
      "text/html": [
       "<div>\n",
       "<style scoped>\n",
       "    .dataframe tbody tr th:only-of-type {\n",
       "        vertical-align: middle;\n",
       "    }\n",
       "\n",
       "    .dataframe tbody tr th {\n",
       "        vertical-align: top;\n",
       "    }\n",
       "\n",
       "    .dataframe thead th {\n",
       "        text-align: right;\n",
       "    }\n",
       "</style>\n",
       "<table border=\"1\" class=\"dataframe\">\n",
       "  <thead>\n",
       "    <tr style=\"text-align: right;\">\n",
       "      <th></th>\n",
       "      <th>amount</th>\n",
       "      <th>merchant_type_electronics</th>\n",
       "      <th>merchant_type_groceries</th>\n",
       "      <th>merchant_type_others</th>\n",
       "      <th>merchant_type_travel</th>\n",
       "      <th>device_type_mobile</th>\n",
       "      <th>device_type_tablet</th>\n",
       "    </tr>\n",
       "  </thead>\n",
       "  <tbody>\n",
       "    <tr>\n",
       "      <th>308</th>\n",
       "      <td>158.57</td>\n",
       "      <td>0.0</td>\n",
       "      <td>0.0</td>\n",
       "      <td>1.0</td>\n",
       "      <td>0.0</td>\n",
       "      <td>1.0</td>\n",
       "      <td>0.0</td>\n",
       "    </tr>\n",
       "    <tr>\n",
       "      <th>628</th>\n",
       "      <td>3.74</td>\n",
       "      <td>0.0</td>\n",
       "      <td>0.0</td>\n",
       "      <td>0.0</td>\n",
       "      <td>0.0</td>\n",
       "      <td>0.0</td>\n",
       "      <td>1.0</td>\n",
       "    </tr>\n",
       "    <tr>\n",
       "      <th>362</th>\n",
       "      <td>61.30</td>\n",
       "      <td>1.0</td>\n",
       "      <td>0.0</td>\n",
       "      <td>0.0</td>\n",
       "      <td>0.0</td>\n",
       "      <td>1.0</td>\n",
       "      <td>0.0</td>\n",
       "    </tr>\n",
       "    <tr>\n",
       "      <th>775</th>\n",
       "      <td>16.24</td>\n",
       "      <td>0.0</td>\n",
       "      <td>0.0</td>\n",
       "      <td>0.0</td>\n",
       "      <td>1.0</td>\n",
       "      <td>0.0</td>\n",
       "      <td>1.0</td>\n",
       "    </tr>\n",
       "    <tr>\n",
       "      <th>276</th>\n",
       "      <td>160.09</td>\n",
       "      <td>0.0</td>\n",
       "      <td>0.0</td>\n",
       "      <td>0.0</td>\n",
       "      <td>1.0</td>\n",
       "      <td>0.0</td>\n",
       "      <td>1.0</td>\n",
       "    </tr>\n",
       "  </tbody>\n",
       "</table>\n",
       "</div>"
      ],
      "text/plain": [
       "     amount  merchant_type_electronics  merchant_type_groceries  \\\n",
       "308  158.57                        0.0                      0.0   \n",
       "628    3.74                        0.0                      0.0   \n",
       "362   61.30                        1.0                      0.0   \n",
       "775   16.24                        0.0                      0.0   \n",
       "276  160.09                        0.0                      0.0   \n",
       "\n",
       "     merchant_type_others  merchant_type_travel  device_type_mobile  \\\n",
       "308                   1.0                   0.0                 1.0   \n",
       "628                   0.0                   0.0                 0.0   \n",
       "362                   0.0                   0.0                 1.0   \n",
       "775                   0.0                   1.0                 0.0   \n",
       "276                   0.0                   1.0                 0.0   \n",
       "\n",
       "     device_type_tablet  \n",
       "308                 0.0  \n",
       "628                 1.0  \n",
       "362                 0.0  \n",
       "775                 1.0  \n",
       "276                 1.0  "
      ]
     },
     "execution_count": 39,
     "metadata": {},
     "output_type": "execute_result"
    }
   ],
   "source": [
    "X_train_processed.head()"
   ]
  },
  {
   "cell_type": "code",
   "execution_count": 40,
   "id": "16ed23e7",
   "metadata": {},
   "outputs": [
    {
     "data": {
      "text/html": [
       "<div>\n",
       "<style scoped>\n",
       "    .dataframe tbody tr th:only-of-type {\n",
       "        vertical-align: middle;\n",
       "    }\n",
       "\n",
       "    .dataframe tbody tr th {\n",
       "        vertical-align: top;\n",
       "    }\n",
       "\n",
       "    .dataframe thead th {\n",
       "        text-align: right;\n",
       "    }\n",
       "</style>\n",
       "<table border=\"1\" class=\"dataframe\">\n",
       "  <thead>\n",
       "    <tr style=\"text-align: right;\">\n",
       "      <th></th>\n",
       "      <th>amount</th>\n",
       "      <th>merchant_type_electronics</th>\n",
       "      <th>merchant_type_groceries</th>\n",
       "      <th>merchant_type_others</th>\n",
       "      <th>merchant_type_travel</th>\n",
       "      <th>device_type_mobile</th>\n",
       "      <th>device_type_tablet</th>\n",
       "    </tr>\n",
       "  </thead>\n",
       "  <tbody>\n",
       "    <tr>\n",
       "      <th>425</th>\n",
       "      <td>79.75</td>\n",
       "      <td>1.0</td>\n",
       "      <td>0.0</td>\n",
       "      <td>0.0</td>\n",
       "      <td>0.0</td>\n",
       "      <td>0.0</td>\n",
       "      <td>1.0</td>\n",
       "    </tr>\n",
       "    <tr>\n",
       "      <th>265</th>\n",
       "      <td>135.00</td>\n",
       "      <td>0.0</td>\n",
       "      <td>0.0</td>\n",
       "      <td>1.0</td>\n",
       "      <td>0.0</td>\n",
       "      <td>0.0</td>\n",
       "      <td>0.0</td>\n",
       "    </tr>\n",
       "    <tr>\n",
       "      <th>664</th>\n",
       "      <td>10.73</td>\n",
       "      <td>0.0</td>\n",
       "      <td>0.0</td>\n",
       "      <td>1.0</td>\n",
       "      <td>0.0</td>\n",
       "      <td>0.0</td>\n",
       "      <td>1.0</td>\n",
       "    </tr>\n",
       "    <tr>\n",
       "      <th>677</th>\n",
       "      <td>50.73</td>\n",
       "      <td>0.0</td>\n",
       "      <td>0.0</td>\n",
       "      <td>1.0</td>\n",
       "      <td>0.0</td>\n",
       "      <td>1.0</td>\n",
       "      <td>0.0</td>\n",
       "    </tr>\n",
       "    <tr>\n",
       "      <th>488</th>\n",
       "      <td>300.40</td>\n",
       "      <td>0.0</td>\n",
       "      <td>0.0</td>\n",
       "      <td>1.0</td>\n",
       "      <td>0.0</td>\n",
       "      <td>1.0</td>\n",
       "      <td>0.0</td>\n",
       "    </tr>\n",
       "  </tbody>\n",
       "</table>\n",
       "</div>"
      ],
      "text/plain": [
       "     amount  merchant_type_electronics  merchant_type_groceries  \\\n",
       "425   79.75                        1.0                      0.0   \n",
       "265  135.00                        0.0                      0.0   \n",
       "664   10.73                        0.0                      0.0   \n",
       "677   50.73                        0.0                      0.0   \n",
       "488  300.40                        0.0                      0.0   \n",
       "\n",
       "     merchant_type_others  merchant_type_travel  device_type_mobile  \\\n",
       "425                   0.0                   0.0                 0.0   \n",
       "265                   1.0                   0.0                 0.0   \n",
       "664                   1.0                   0.0                 0.0   \n",
       "677                   1.0                   0.0                 1.0   \n",
       "488                   1.0                   0.0                 1.0   \n",
       "\n",
       "     device_type_tablet  \n",
       "425                 1.0  \n",
       "265                 0.0  \n",
       "664                 1.0  \n",
       "677                 0.0  \n",
       "488                 0.0  "
      ]
     },
     "execution_count": 40,
     "metadata": {},
     "output_type": "execute_result"
    }
   ],
   "source": [
    "X_valid_processed.head()"
   ]
  },
  {
   "cell_type": "code",
   "execution_count": 41,
   "id": "b3ea2ce4",
   "metadata": {},
   "outputs": [
    {
     "data": {
      "text/html": [
       "<div>\n",
       "<style scoped>\n",
       "    .dataframe tbody tr th:only-of-type {\n",
       "        vertical-align: middle;\n",
       "    }\n",
       "\n",
       "    .dataframe tbody tr th {\n",
       "        vertical-align: top;\n",
       "    }\n",
       "\n",
       "    .dataframe thead th {\n",
       "        text-align: right;\n",
       "    }\n",
       "</style>\n",
       "<table border=\"1\" class=\"dataframe\">\n",
       "  <thead>\n",
       "    <tr style=\"text-align: right;\">\n",
       "      <th></th>\n",
       "      <th>amount</th>\n",
       "      <th>merchant_type_electronics</th>\n",
       "      <th>merchant_type_groceries</th>\n",
       "      <th>merchant_type_others</th>\n",
       "      <th>merchant_type_travel</th>\n",
       "      <th>device_type_mobile</th>\n",
       "      <th>device_type_tablet</th>\n",
       "    </tr>\n",
       "  </thead>\n",
       "  <tbody>\n",
       "    <tr>\n",
       "      <th>171</th>\n",
       "      <td>1.67</td>\n",
       "      <td>0.0</td>\n",
       "      <td>0.0</td>\n",
       "      <td>1.0</td>\n",
       "      <td>0.0</td>\n",
       "      <td>0.0</td>\n",
       "      <td>0.0</td>\n",
       "    </tr>\n",
       "    <tr>\n",
       "      <th>815</th>\n",
       "      <td>73.16</td>\n",
       "      <td>0.0</td>\n",
       "      <td>0.0</td>\n",
       "      <td>0.0</td>\n",
       "      <td>0.0</td>\n",
       "      <td>1.0</td>\n",
       "      <td>0.0</td>\n",
       "    </tr>\n",
       "    <tr>\n",
       "      <th>969</th>\n",
       "      <td>64.64</td>\n",
       "      <td>0.0</td>\n",
       "      <td>0.0</td>\n",
       "      <td>0.0</td>\n",
       "      <td>1.0</td>\n",
       "      <td>1.0</td>\n",
       "      <td>0.0</td>\n",
       "    </tr>\n",
       "    <tr>\n",
       "      <th>763</th>\n",
       "      <td>136.24</td>\n",
       "      <td>0.0</td>\n",
       "      <td>1.0</td>\n",
       "      <td>0.0</td>\n",
       "      <td>0.0</td>\n",
       "      <td>0.0</td>\n",
       "      <td>1.0</td>\n",
       "    </tr>\n",
       "    <tr>\n",
       "      <th>468</th>\n",
       "      <td>25.31</td>\n",
       "      <td>0.0</td>\n",
       "      <td>0.0</td>\n",
       "      <td>1.0</td>\n",
       "      <td>0.0</td>\n",
       "      <td>0.0</td>\n",
       "      <td>0.0</td>\n",
       "    </tr>\n",
       "  </tbody>\n",
       "</table>\n",
       "</div>"
      ],
      "text/plain": [
       "     amount  merchant_type_electronics  merchant_type_groceries  \\\n",
       "171    1.67                        0.0                      0.0   \n",
       "815   73.16                        0.0                      0.0   \n",
       "969   64.64                        0.0                      0.0   \n",
       "763  136.24                        0.0                      1.0   \n",
       "468   25.31                        0.0                      0.0   \n",
       "\n",
       "     merchant_type_others  merchant_type_travel  device_type_mobile  \\\n",
       "171                   1.0                   0.0                 0.0   \n",
       "815                   0.0                   0.0                 1.0   \n",
       "969                   0.0                   1.0                 1.0   \n",
       "763                   0.0                   0.0                 0.0   \n",
       "468                   1.0                   0.0                 0.0   \n",
       "\n",
       "     device_type_tablet  \n",
       "171                 0.0  \n",
       "815                 0.0  \n",
       "969                 0.0  \n",
       "763                 1.0  \n",
       "468                 0.0  "
      ]
     },
     "execution_count": 41,
     "metadata": {},
     "output_type": "execute_result"
    }
   ],
   "source": [
    "X_test_processed.head()"
   ]
  },
  {
   "cell_type": "markdown",
   "id": "00c1245f",
   "metadata": {},
   "source": [
    "All look well/fine"
   ]
  },
  {
   "cell_type": "markdown",
   "id": "1be71a94",
   "metadata": {},
   "source": [
    "# Outlier Handling"
   ]
  },
  {
   "cell_type": "code",
   "execution_count": 42,
   "id": "87bd2948",
   "metadata": {},
   "outputs": [],
   "source": [
    "def transforming_log(data, column:str):\n",
    "    # use numpy to transforming log\n",
    "    transform_data = np.log(data[column] + 1)\n",
    "    \n",
    "    return transform_data\n",
    "\n",
    "# copy\n",
    "X_train_processed_log = X_train_processed.copy()\n",
    "X_valid_processed_log = X_valid_processed.copy()\n",
    "X_test_processed_log = X_test_processed.copy()\n",
    "\n",
    "# create feature column\n",
    "X_train_processed_log['log_amount'] = transforming_log(X_train_processed_log, 'amount')\n",
    "X_valid_processed_log['log_amount'] = transforming_log(X_valid_processed_log, 'amount')\n",
    "X_test_processed_log['log_amount'] = transforming_log(X_test_processed_log, 'amount')\n",
    "\n",
    "# drop the column amount \n",
    "X_train_processed_log = X_train_processed_log.drop(columns=['amount'], axis=1)\n",
    "X_valid_processed_log = X_valid_processed_log.drop(columns=['amount'], axis=1)\n",
    "X_test_processed_log = X_test_processed_log.drop(columns=['amount'], axis=1)"
   ]
  },
  {
   "cell_type": "code",
   "execution_count": 43,
   "id": "6fc4751b",
   "metadata": {},
   "outputs": [
    {
     "name": "stdout",
     "output_type": "stream",
     "text": [
      "<class 'pandas.core.frame.DataFrame'>\n",
      "Index: 700 entries, 308 to 29\n",
      "Data columns (total 7 columns):\n",
      " #   Column                     Non-Null Count  Dtype  \n",
      "---  ------                     --------------  -----  \n",
      " 0   amount                     700 non-null    float64\n",
      " 1   merchant_type_electronics  700 non-null    float64\n",
      " 2   merchant_type_groceries    700 non-null    float64\n",
      " 3   merchant_type_others       700 non-null    float64\n",
      " 4   merchant_type_travel       700 non-null    float64\n",
      " 5   device_type_mobile         700 non-null    float64\n",
      " 6   device_type_tablet         700 non-null    float64\n",
      "dtypes: float64(7)\n",
      "memory usage: 43.8 KB\n"
     ]
    }
   ],
   "source": [
    "# checkpoint\n",
    "X_train_processed.info()"
   ]
  },
  {
   "cell_type": "code",
   "execution_count": 44,
   "id": "c9d4d133",
   "metadata": {},
   "outputs": [
    {
     "name": "stdout",
     "output_type": "stream",
     "text": [
      "<class 'pandas.core.frame.DataFrame'>\n",
      "Index: 700 entries, 308 to 29\n",
      "Data columns (total 7 columns):\n",
      " #   Column                     Non-Null Count  Dtype  \n",
      "---  ------                     --------------  -----  \n",
      " 0   merchant_type_electronics  700 non-null    float64\n",
      " 1   merchant_type_groceries    700 non-null    float64\n",
      " 2   merchant_type_others       700 non-null    float64\n",
      " 3   merchant_type_travel       700 non-null    float64\n",
      " 4   device_type_mobile         700 non-null    float64\n",
      " 5   device_type_tablet         700 non-null    float64\n",
      " 6   log_amount                 700 non-null    float64\n",
      "dtypes: float64(7)\n",
      "memory usage: 43.8 KB\n"
     ]
    }
   ],
   "source": [
    "X_train_processed_log.info()"
   ]
  },
  {
   "cell_type": "markdown",
   "id": "ad20de2b",
   "metadata": {},
   "source": [
    "# SMOTE (Imbalance Handling)"
   ]
  },
  {
   "cell_type": "code",
   "execution_count": 45,
   "id": "cd03cb7c",
   "metadata": {},
   "outputs": [
    {
     "data": {
      "text/plain": [
       "label\n",
       "0    0.95\n",
       "1    0.05\n",
       "Name: proportion, dtype: float64"
      ]
     },
     "execution_count": 45,
     "metadata": {},
     "output_type": "execute_result"
    }
   ],
   "source": [
    "y_train.value_counts(normalize=True)"
   ]
  },
  {
   "cell_type": "code",
   "execution_count": 46,
   "id": "43f56627",
   "metadata": {},
   "outputs": [],
   "source": [
    "# intialize smote\n",
    "smote = SMOTE(random_state=42)\n",
    "\n",
    "# fit only in set train\n",
    "X_train_processed_SMOTE, y_train_processed_SMOTE = smote.fit_resample(X_train_processed,\n",
    "                                                                      y_train)\n",
    "\n",
    "X_train_processed_log_SMOTE, y_train_processed_log_SMOTE = smote.fit_resample(X_train_processed_log,\n",
    "                                                                             y_train) "
   ]
  },
  {
   "cell_type": "code",
   "execution_count": 47,
   "id": "79a2337d",
   "metadata": {},
   "outputs": [
    {
     "name": "stdout",
     "output_type": "stream",
     "text": [
      "<class 'pandas.core.frame.DataFrame'>\n",
      "RangeIndex: 1330 entries, 0 to 1329\n",
      "Data columns (total 7 columns):\n",
      " #   Column                     Non-Null Count  Dtype  \n",
      "---  ------                     --------------  -----  \n",
      " 0   amount                     1330 non-null   float64\n",
      " 1   merchant_type_electronics  1330 non-null   float64\n",
      " 2   merchant_type_groceries    1330 non-null   float64\n",
      " 3   merchant_type_others       1330 non-null   float64\n",
      " 4   merchant_type_travel       1330 non-null   float64\n",
      " 5   device_type_mobile         1330 non-null   float64\n",
      " 6   device_type_tablet         1330 non-null   float64\n",
      "dtypes: float64(7)\n",
      "memory usage: 72.9 KB\n"
     ]
    }
   ],
   "source": [
    "# checkpoint\n",
    "X_train_processed_SMOTE.info()"
   ]
  },
  {
   "cell_type": "code",
   "execution_count": 48,
   "id": "3deac48c",
   "metadata": {},
   "outputs": [
    {
     "name": "stdout",
     "output_type": "stream",
     "text": [
      "<class 'pandas.core.frame.DataFrame'>\n",
      "RangeIndex: 1330 entries, 0 to 1329\n",
      "Data columns (total 7 columns):\n",
      " #   Column                     Non-Null Count  Dtype  \n",
      "---  ------                     --------------  -----  \n",
      " 0   merchant_type_electronics  1330 non-null   float64\n",
      " 1   merchant_type_groceries    1330 non-null   float64\n",
      " 2   merchant_type_others       1330 non-null   float64\n",
      " 3   merchant_type_travel       1330 non-null   float64\n",
      " 4   device_type_mobile         1330 non-null   float64\n",
      " 5   device_type_tablet         1330 non-null   float64\n",
      " 6   log_amount                 1330 non-null   float64\n",
      "dtypes: float64(7)\n",
      "memory usage: 72.9 KB\n"
     ]
    }
   ],
   "source": [
    "X_train_processed_log_SMOTE.info()"
   ]
  },
  {
   "cell_type": "code",
   "execution_count": 49,
   "id": "ecdb260c",
   "metadata": {},
   "outputs": [
    {
     "data": {
      "text/plain": [
       "Index(['amount', 'merchant_type_electronics', 'merchant_type_groceries',\n",
       "       'merchant_type_others', 'merchant_type_travel', 'device_type_mobile',\n",
       "       'device_type_tablet'],\n",
       "      dtype='object')"
      ]
     },
     "execution_count": 49,
     "metadata": {},
     "output_type": "execute_result"
    }
   ],
   "source": [
    "X_train_processed_SMOTE.columns"
   ]
  },
  {
   "cell_type": "code",
   "execution_count": 50,
   "id": "79384cc4",
   "metadata": {},
   "outputs": [
    {
     "data": {
      "text/plain": [
       "Index(['merchant_type_electronics', 'merchant_type_groceries',\n",
       "       'merchant_type_others', 'merchant_type_travel', 'device_type_mobile',\n",
       "       'device_type_tablet', 'log_amount'],\n",
       "      dtype='object')"
      ]
     },
     "execution_count": 50,
     "metadata": {},
     "output_type": "execute_result"
    }
   ],
   "source": [
    "X_train_processed_log_SMOTE.columns"
   ]
  },
  {
   "cell_type": "markdown",
   "id": "f25cbade",
   "metadata": {},
   "source": [
    "# Dump Dataset"
   ]
  },
  {
   "cell_type": "code",
   "execution_count": 51,
   "id": "7e40d700",
   "metadata": {},
   "outputs": [],
   "source": [
    "# dump set data without transforming log\n",
    "utils.pickle_dump(X_train_processed, config['train_processed_set_path'][0])\n",
    "utils.pickle_dump(y_train, config['train_processed_set_path'][1])\n",
    "\n",
    "utils.pickle_dump(X_train_processed_SMOTE, config['train_processed_SMOTE_set_path'][0])\n",
    "utils.pickle_dump(y_train_processed_SMOTE, config['train_processed_SMOTE_set_path'][1])\n",
    "\n",
    "utils.pickle_dump(X_valid_processed, config['valid_processed_set_path'][0])\n",
    "utils.pickle_dump(y_valid, config['valid_processed_set_path'][1])\n",
    "\n",
    "utils.pickle_dump(X_test_processed, config['test_processed_set_path'][0])\n",
    "utils.pickle_dump(y_test, config['test_processed_set_path'][1])\n",
    "\n",
    "# dump set data with transforming log\n",
    "utils.pickle_dump(X_train_processed_log, config['train_processed_log_set_path'][0])\n",
    "utils.pickle_dump(y_train, config['train_processed_log_set_path'][1])\n",
    "\n",
    "utils.pickle_dump(X_train_processed_log_SMOTE, config['train_processed_log_SMOTE_set_path'][0])\n",
    "utils.pickle_dump(y_train_processed_log_SMOTE, config['train_processed_log_SMOTE_set_path'][1])\n",
    "\n",
    "utils.pickle_dump(X_valid_processed_log, config['valid_processed_log_set_path'][0])\n",
    "utils.pickle_dump(y_valid, config['valid_processed_log_set_path'][1])\n",
    "\n",
    "utils.pickle_dump(X_test_processed_log, config['test_processed_log_set_path'][0])\n",
    "utils.pickle_dump(y_test, config['test_processed_log_set_path'][1])"
   ]
  }
 ],
 "metadata": {
  "kernelspec": {
   "display_name": "fraud_venv",
   "language": "python",
   "name": "python3"
  },
  "language_info": {
   "codemirror_mode": {
    "name": "ipython",
    "version": 3
   },
   "file_extension": ".py",
   "mimetype": "text/x-python",
   "name": "python",
   "nbconvert_exporter": "python",
   "pygments_lexer": "ipython3",
   "version": "3.10.5"
  }
 },
 "nbformat": 4,
 "nbformat_minor": 5
}
